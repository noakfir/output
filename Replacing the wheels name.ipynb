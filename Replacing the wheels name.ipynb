{
 "cells": [
  {
   "cell_type": "code",
   "execution_count": 54,
   "id": "eb366c25",
   "metadata": {},
   "outputs": [
    {
     "name": "stdout",
     "output_type": "stream",
     "text": [
      "insightsprocessor-1.3.38-py3-none-any.whl\n",
      "\n"
     ]
    }
   ],
   "source": [
    "import os\n",
    "\n",
    "input_variable = os.environ['INPUT_STORE']\n",
    "\n",
    "with open(\"requirements.txt\",'r') as f:\n",
    "    filedata = f.read()\n",
    "    print(filedata)\n",
    "\n",
    "    \n",
    "for word in filedata.split():\n",
    "    if \"local_wheels\" in word :\n",
    "        old_version = word.strip()\n",
    "\n",
    "\n",
    "newdata = filedata.replace(old_version, f'./local_wheels/{input_variable}')\n",
    "\n",
    "with open(\"requirements.txt\",'w') as f:\n",
    "    f.write(newdata)\n",
    "\n",
    "        \n",
    "\n"
   ]
  }
 ],
 "metadata": {
  "kernelspec": {
   "display_name": "Python 3 (ipykernel)",
   "language": "python",
   "name": "python3"
  },
  "language_info": {
   "codemirror_mode": {
    "name": "ipython",
    "version": 3
   },
   "file_extension": ".py",
   "mimetype": "text/x-python",
   "name": "python",
   "nbconvert_exporter": "python",
   "pygments_lexer": "ipython3",
   "version": "3.9.7"
  }
 },
 "nbformat": 4,
 "nbformat_minor": 5
}
